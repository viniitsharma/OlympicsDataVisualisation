{
 "cells": [
  {
   "cell_type": "code",
   "execution_count": 1,
   "metadata": {},
   "outputs": [],
   "source": [
    "from Utils.CONSTANTS import CONSTANTS\n",
    "from pyspark.sql import SparkSession # type: ignore\n",
    "import os\n",
    "\n",
    "spark = SparkSession.builder \\\n",
    "    .appName(CONSTANTS[\"APPNAME\"]) \\\n",
    "    .config(CONSTANTS[\"CONFIG_HIVEWRH\"],CONSTANTS[\"CONFIG_HIVEDIR\"]) \\\n",
    "    .enableHiveSupport() \\\n",
    "    .getOrCreate()\n",
    "\n",
    "# Providing path of Python to PySpark\n",
    "os.environ['PYSPARK_PYTHON'] = \"C://Users//44776//anaconda3//python.exe\""
   ]
  },
  {
   "cell_type": "code",
   "execution_count": 3,
   "metadata": {},
   "outputs": [
    {
     "name": "stdout",
     "output_type": "stream",
     "text": [
      "Time taken : 0.3393895626068115\n"
     ]
    },
    {
     "data": {
      "text/plain": [
       "381"
      ]
     },
     "execution_count": 3,
     "metadata": {},
     "output_type": "execute_result"
    }
   ],
   "source": [
    "import time\n",
    "start_time = time.time()\n",
    "team = spark.read.format(\"csv\").option(\"header\",\"true\").load(\"hdfs://localhost:9820/TokyoOlympics/t5/Teams.orc\")\n",
    "end_time = time.time()\n",
    "\n",
    "print(f\"Time taken : {end_time -start_time}\")\n",
    "team.count()"
   ]
  },
  {
   "cell_type": "code",
   "execution_count": 4,
   "metadata": {},
   "outputs": [
    {
     "name": "stdout",
     "output_type": "stream",
     "text": [
      "Time taken : 0.22794032096862793\n"
     ]
    },
    {
     "data": {
      "text/plain": [
       "743"
      ]
     },
     "execution_count": 4,
     "metadata": {},
     "output_type": "execute_result"
    }
   ],
   "source": [
    "import time\n",
    "start_time = time.time()\n",
    "team = spark.read.format(\"orc\").option(\"header\",\"true\").load(\"hdfs://localhost:9820/TokyoOlympics/t5/Teams.orc\")\n",
    "end_time = time.time()\n",
    "print(f\"Time taken : {end_time -start_time}\")\n",
    "team.count()"
   ]
  },
  {
   "cell_type": "code",
   "execution_count": 5,
   "metadata": {},
   "outputs": [
    {
     "name": "stdout",
     "output_type": "stream",
     "text": [
      "+------+----------+------+--------------------+\n",
      "|  Name|Discipline|   NOC|               Event|\n",
      "+------+----------+------+--------------------+\n",
      "|Poland| Athletics|Poland|4 x 400m Relay Mixed|\n",
      "|Poland| Athletics|Poland|Men's 4 x 400m Relay|\n",
      "+------+----------+------+--------------------+\n",
      "only showing top 2 rows\n",
      "\n"
     ]
    }
   ],
   "source": [
    "team.show(2)"
   ]
  },
  {
   "cell_type": "code",
   "execution_count": 13,
   "metadata": {},
   "outputs": [
    {
     "name": "stdout",
     "output_type": "stream",
     "text": [
      "+--------------------+----------------+--------------------+-----+\n",
      "|                Name|      Discipline|                 NOC|Event|\n",
      "+--------------------+----------------+--------------------+-----+\n",
      "|           Australia|      Basketball|           Australia|Women|\n",
      "|             Belgium|      Basketball|             Belgium|Women|\n",
      "|              Canada|      Basketball|              Canada|Women|\n",
      "|               China|      Basketball|People's Republic...|Women|\n",
      "|              France|      Basketball|              France|Women|\n",
      "|               Japan|      Basketball|               Japan|Women|\n",
      "|             Nigeria|      Basketball|             Nigeria|Women|\n",
      "|         Puerto Rico|      Basketball|         Puerto Rico|Women|\n",
      "|   Republic of Korea|      Basketball|   Republic of Korea|Women|\n",
      "|              Serbia|      Basketball|              Serbia|Women|\n",
      "|               Spain|      Basketball|               Spain|Women|\n",
      "|       United States|      Basketball|United States of ...|Women|\n",
      "|      Gallay/Pereyra|Beach Volleyball|           Argentina|Women|\n",
      "|Artacho Del Solar...|Beach Volleyball|           Australia|Women|\n",
      "|Ana Patricia/Rebecca|Beach Volleyball|              Brazil|Women|\n",
      "|         Agatha/Duda|Beach Volleyball|              Brazil|Women|\n",
      "|     Bansley/Brandie|Beach Volleyball|              Canada|Women|\n",
      "|       Pavan/Melissa|Beach Volleyball|              Canada|Women|\n",
      "|        Wang/X.Y.Xia|Beach Volleyball|People's Republic...|Women|\n",
      "|       Xue/Wang X.X.|Beach Volleyball|People's Republic...|Women|\n",
      "+--------------------+----------------+--------------------+-----+\n",
      "only showing top 20 rows\n",
      "\n"
     ]
    }
   ],
   "source": [
    "from pyspark.sql.functions import col\n",
    "filtered_df = team.filter(col(\"Event\") == \"Women\")\n",
    "filtered_df.show()"
   ]
  },
  {
   "cell_type": "code",
   "execution_count": null,
   "metadata": {},
   "outputs": [],
   "source": []
  },
  {
   "cell_type": "code",
   "execution_count": null,
   "metadata": {},
   "outputs": [],
   "source": []
  },
  {
   "cell_type": "code",
   "execution_count": null,
   "metadata": {},
   "outputs": [],
   "source": []
  },
  {
   "cell_type": "code",
   "execution_count": null,
   "metadata": {},
   "outputs": [],
   "source": []
  },
  {
   "cell_type": "code",
   "execution_count": null,
   "metadata": {},
   "outputs": [],
   "source": []
  },
  {
   "cell_type": "code",
   "execution_count": null,
   "metadata": {},
   "outputs": [],
   "source": []
  },
  {
   "cell_type": "code",
   "execution_count": null,
   "metadata": {},
   "outputs": [],
   "source": []
  },
  {
   "cell_type": "code",
   "execution_count": null,
   "metadata": {},
   "outputs": [],
   "source": []
  },
  {
   "cell_type": "code",
   "execution_count": null,
   "metadata": {},
   "outputs": [],
   "source": []
  },
  {
   "cell_type": "code",
   "execution_count": null,
   "metadata": {},
   "outputs": [],
   "source": []
  },
  {
   "cell_type": "code",
   "execution_count": null,
   "metadata": {},
   "outputs": [],
   "source": []
  },
  {
   "cell_type": "code",
   "execution_count": null,
   "metadata": {},
   "outputs": [],
   "source": []
  }
 ],
 "metadata": {
  "kernelspec": {
   "display_name": "base",
   "language": "python",
   "name": "python3"
  },
  "language_info": {
   "codemirror_mode": {
    "name": "ipython",
    "version": 3
   },
   "file_extension": ".py",
   "mimetype": "text/x-python",
   "name": "python",
   "nbconvert_exporter": "python",
   "pygments_lexer": "ipython3",
   "version": "3.11.7"
  }
 },
 "nbformat": 4,
 "nbformat_minor": 2
}
